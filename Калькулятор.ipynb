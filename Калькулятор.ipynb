{
 "cells": [
  {
   "cell_type": "code",
   "execution_count": 8,
   "metadata": {},
   "outputs": [
    {
     "name": "stdout",
     "output_type": "stream",
     "text": [
      "3/1\n",
      "3/1=\n",
      "3.0\n",
      "None\n"
     ]
    }
   ],
   "source": [
    "def Numbers(var):\n",
    "    return var in '1234567890'\n",
    "\n",
    "def Test4Num(varstr):\n",
    "    n = 0\n",
    "    var = ''\n",
    "    try: \n",
    "        while Numbers(varstr[n]):\n",
    "            var += varstr[n]\n",
    "            n += 1\n",
    "    except: pass\n",
    "    return (int(var), n)\n",
    "\n",
    "def operation(string, num1, num2):\n",
    "    if string == '+':\n",
    "        return num1 + num2\n",
    "    if string == '-':\n",
    "        return num1-num2\n",
    "    if string == '*':\n",
    "        return num1*num2\n",
    "    if string == '/':\n",
    "        return num1/num2\n",
    "    if string == '^':\n",
    "        return num1 ** num2\n",
    "\n",
    "\n",
    "\n",
    "\n",
    "negate = False\n",
    "char = input('')\n",
    "\n",
    "print(char + '=')\n",
    "while True:\n",
    "    try: \n",
    "        if char[0] == '-': \n",
    "            negate = \n",
    "            char = char[1:]\n",
    "        number1 = Test4Num(char)[0]\n",
    "        if negate == True:\n",
    "            number1 = -number1\n",
    "            negate = False\n",
    "        end_number1 = Test4Num(char)[1]\n",
    "        char = char[end_number1:]\n",
    "        if char == '':\n",
    "            print(number1)\n",
    "            break\n",
    "        op = char[0]\n",
    "        char = char[1:]\n",
    "        number2 = Test4Num(char)[0]\n",
    "        end_number2 = Test4Num(char)[1]\n",
    "        result = operation(op, number1, number2)\n",
    "        number1 = result\n",
    "        char = str(number1) + char[end_number2:]\n",
    "        print(char)\n",
    "    except: break"
   ]
  },
  {
   "cell_type": "code",
   "execution_count": null,
   "metadata": {},
   "outputs": [],
   "source": []
  }
 ],
 "metadata": {
  "kernelspec": {
   "display_name": "Python 3",
   "language": "python",
   "name": "python3"
  },
  "language_info": {
   "codemirror_mode": {
    "name": "ipython",
    "version": 3
   },
   "file_extension": ".py",
   "mimetype": "text/x-python",
   "name": "python",
   "nbconvert_exporter": "python",
   "pygments_lexer": "ipython3",
   "version": "3.8.5"
  }
 },
 "nbformat": 4,
 "nbformat_minor": 4
}
